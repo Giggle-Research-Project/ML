{
 "cells": [
  {
   "cell_type": "code",
   "execution_count": 1,
   "metadata": {},
   "outputs": [
    {
     "name": "stdout",
     "output_type": "stream",
     "text": [
      "\n",
      "    fastapi: 0.115.5\n",
      "    cv2: 4.10.0\n",
      "    mediapipe: 0.10.14\n",
      "    tensorflow: 2.10.1\n",
      "    whisper: 20240930\n",
      "    torch: 2.4.1+cpu\n",
      "    seaborn: 0.13.2\n",
      "    matplotlib: 3.9.2\n",
      "    numpy: 1.26.4\n",
      "    \n",
      "\n"
     ]
    }
   ],
   "source": [
    "import fastapi\n",
    "import cv2\n",
    "import mediapipe\n",
    "import tensorflow\n",
    "import whisper\n",
    "import torch\n",
    "import seaborn\n",
    "import matplotlib\n",
    "import numpy\n",
    "\n",
    "print(f\"\"\"\n",
    "    fastapi: {fastapi.__version__}\n",
    "    cv2: {cv2.__version__}\n",
    "    mediapipe: {mediapipe.__version__}\n",
    "    tensorflow: {tensorflow.__version__}\n",
    "    whisper: {whisper.__version__}\n",
    "    torch: {torch.__version__}\n",
    "    seaborn: {seaborn.__version__}\n",
    "    matplotlib: {matplotlib.__version__}\n",
    "    numpy: {numpy.__version__}\n",
    "    \n",
    "\"\"\")\n"
   ]
  }
 ],
 "metadata": {
  "kernelspec": {
   "display_name": "test_310",
   "language": "python",
   "name": "python3"
  },
  "language_info": {
   "codemirror_mode": {
    "name": "ipython",
    "version": 3
   },
   "file_extension": ".py",
   "mimetype": "text/x-python",
   "name": "python",
   "nbconvert_exporter": "python",
   "pygments_lexer": "ipython3",
   "version": "3.10.15"
  }
 },
 "nbformat": 4,
 "nbformat_minor": 2
}
