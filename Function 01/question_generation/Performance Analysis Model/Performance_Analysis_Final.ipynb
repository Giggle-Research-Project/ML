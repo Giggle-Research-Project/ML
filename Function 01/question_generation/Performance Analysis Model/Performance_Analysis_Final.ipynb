{
  "nbformat": 4,
  "nbformat_minor": 0,
  "metadata": {
    "colab": {
      "provenance": [],
      "gpuType": "V28"
    },
    "kernelspec": {
      "name": "python3",
      "display_name": "Python 3"
    },
    "language_info": {
      "name": "python"
    },
    "accelerator": "TPU"
  },
  "cells": [
    {
      "cell_type": "code",
      "source": [
        "import pandas as pd\n",
        "import numpy as np\n",
        "\n",
        "# Set random seed for reproducibility\n",
        "np.random.seed(42)\n",
        "\n",
        "# Simulate dataset with 100 samples\n",
        "n_samples = 100\n",
        "\n",
        "# Features\n",
        "response_accuracy = np.random.choice([0, 1], size=n_samples)  # 0 = wrong, 1 = correct\n",
        "time_taken = np.random.uniform(5, 60, size=n_samples)  # Time in seconds\n",
        "question_type = np.random.choice([0, 1, 2], size=n_samples)  # 0 = easy, 1 = medium, 2 = hard\n",
        "completion_status = np.random.choice([0, 1], size=n_samples)  # 0 = incomplete, 1 = complete\n",
        "assistance_needed = np.random.choice([0, 1], size=n_samples)  # 0 = no assistance, 1 = assistance needed\n",
        "\n",
        "# Target Variables\n",
        "skill_level = np.clip(response_accuracy * 0.8 + (1 - (time_taken / 60)) * 0.2, 0, 1)  # Normalized skill level\n",
        "assistance_needed_binary = assistance_needed  # Binary output\n",
        "difficulty_recommendation = np.clip(question_type + response_accuracy - assistance_needed, 1, 3)  # Difficulty\n",
        "\n",
        "# Create DataFrame\n",
        "data = pd.DataFrame({\n",
        "    'response_accuracy': response_accuracy,\n",
        "    'time_taken': time_taken,\n",
        "    'question_type': question_type,\n",
        "    'completion_status': completion_status,\n",
        "    'assistance_needed': assistance_needed,\n",
        "    'skill_level': skill_level,\n",
        "    'assistance_needed_binary': assistance_needed_binary,\n",
        "    'difficulty_recommendation': difficulty_recommendation\n",
        "})\n",
        "\n",
        "# Save to CSV\n",
        "data.to_csv('student_performance_dataset.csv', index=False)\n",
        "\n",
        "print(\"Dataset generated and saved as 'student_performance_dataset.csv'\")\n"
      ],
      "metadata": {
        "colab": {
          "base_uri": "https://localhost:8080/"
        },
        "id": "KCrB0zsp7KoW",
        "outputId": "9eeda450-933f-4171-920b-1ea63927e150"
      },
      "execution_count": null,
      "outputs": [
        {
          "output_type": "stream",
          "name": "stdout",
          "text": [
            "Dataset generated and saved as 'student_performance_dataset.csv'\n"
          ]
        }
      ]
    },
    {
      "cell_type": "code",
      "source": [
        "import pandas as pd\n",
        "\n",
        "# Load dataset\n",
        "data = pd.read_csv('student_performance_dataset.csv')\n",
        "\n",
        "# Display first few rows to understand the structure\n",
        "print(data.head())\n"
      ],
      "metadata": {
        "colab": {
          "base_uri": "https://localhost:8080/"
        },
        "id": "4beeq4m-7aGi",
        "outputId": "b4042b7f-0cbc-4eef-dd33-25addfac3f71"
      },
      "execution_count": null,
      "outputs": [
        {
          "output_type": "stream",
          "name": "stdout",
          "text": [
            "   response_accuracy  time_taken  question_type  completion_status  \\\n",
            "0                  0   58.327155              0                  1   \n",
            "1                  1   47.632305              0                  0   \n",
            "2                  0   56.672442              2                  0   \n",
            "3                  0   54.215504              1                  1   \n",
            "4                  0   37.884499              1                  1   \n",
            "\n",
            "   assistance_needed  skill_level  assistance_needed_binary  \\\n",
            "0                  1     0.005576                         1   \n",
            "1                  0     0.841226                         0   \n",
            "2                  1     0.011092                         1   \n",
            "3                  1     0.019282                         1   \n",
            "4                  1     0.073718                         1   \n",
            "\n",
            "   difficulty_recommendation  \n",
            "0                          1  \n",
            "1                          1  \n",
            "2                          1  \n",
            "3                          1  \n",
            "4                          1  \n"
          ]
        }
      ]
    },
    {
      "cell_type": "code",
      "source": [
        "# Features\n",
        "X = data[['response_accuracy', 'time_taken', 'question_type', 'completion_status', 'assistance_needed']]\n",
        "# Targets\n",
        "y = data[['skill_level', 'assistance_needed_binary', 'difficulty_recommendation']]\n"
      ],
      "metadata": {
        "id": "FhLrH5ga7iJn"
      },
      "execution_count": null,
      "outputs": []
    },
    {
      "cell_type": "code",
      "source": [
        "from sklearn.preprocessing import MinMaxScaler\n",
        "\n",
        "# Initialize scalers\n",
        "scaler_X = MinMaxScaler()\n",
        "scaler_y = MinMaxScaler()\n",
        "\n",
        "# Scale features and targets\n",
        "X_scaled = scaler_X.fit_transform(X)\n",
        "y_scaled = scaler_y.fit_transform(y)\n"
      ],
      "metadata": {
        "id": "xupHYVGx7m7S"
      },
      "execution_count": null,
      "outputs": []
    },
    {
      "cell_type": "code",
      "source": [
        "from sklearn.model_selection import train_test_split\n",
        "\n",
        "# Split data into training and testing sets\n",
        "X_train, X_test, y_train, y_test = train_test_split(X_scaled, y_scaled, test_size=0.2, random_state=42)\n"
      ],
      "metadata": {
        "id": "TrqXWd_x7o-J"
      },
      "execution_count": null,
      "outputs": []
    },
    {
      "cell_type": "code",
      "source": [
        "import tensorflow as tf\n",
        "from tensorflow.keras import layers, models\n",
        "\n",
        "# Define the model\n",
        "model = models.Sequential([\n",
        "    layers.Dense(64, activation='relu', input_shape=(X_train.shape[1],)),\n",
        "    layers.Dense(32, activation='relu'),\n",
        "    layers.Dense(16, activation='relu'),\n",
        "    layers.Dense(y_train.shape[1], activation='linear')  # Output layer\n",
        "])\n",
        "\n",
        "# Compile the model\n",
        "model.compile(optimizer='adam', loss='mean_squared_error', metrics=['mae'])\n",
        "\n",
        "# Train the model\n",
        "history = model.fit(X_train, y_train, epochs=100, batch_size=32, validation_split=0.2, verbose=1)\n"
      ],
      "metadata": {
        "colab": {
          "base_uri": "https://localhost:8080/"
        },
        "id": "jCNA9oj37rgf",
        "outputId": "8b9f9963-4cae-40dc-d1af-302fb000bc7e"
      },
      "execution_count": null,
      "outputs": [
        {
          "output_type": "stream",
          "name": "stdout",
          "text": [
            "Epoch 1/100\n",
            "2/2 [==============================] - 1s 150ms/step - loss: 0.4367 - mae: 0.5207 - val_loss: 0.3744 - val_mae: 0.4762\n",
            "Epoch 2/100\n",
            "2/2 [==============================] - 0s 35ms/step - loss: 0.3909 - mae: 0.4917 - val_loss: 0.3349 - val_mae: 0.4532\n",
            "Epoch 3/100\n",
            "2/2 [==============================] - 0s 35ms/step - loss: 0.3512 - mae: 0.4659 - val_loss: 0.3000 - val_mae: 0.4313\n",
            "Epoch 4/100\n",
            "2/2 [==============================] - 0s 36ms/step - loss: 0.3188 - mae: 0.4433 - val_loss: 0.2721 - val_mae: 0.4120\n",
            "Epoch 5/100\n",
            "2/2 [==============================] - 0s 38ms/step - loss: 0.2880 - mae: 0.4219 - val_loss: 0.2490 - val_mae: 0.3956\n",
            "Epoch 6/100\n",
            "2/2 [==============================] - 0s 35ms/step - loss: 0.2636 - mae: 0.4034 - val_loss: 0.2276 - val_mae: 0.3813\n",
            "Epoch 7/100\n",
            "2/2 [==============================] - 0s 37ms/step - loss: 0.2417 - mae: 0.3882 - val_loss: 0.2066 - val_mae: 0.3663\n",
            "Epoch 8/100\n",
            "2/2 [==============================] - 0s 35ms/step - loss: 0.2205 - mae: 0.3740 - val_loss: 0.1876 - val_mae: 0.3526\n",
            "Epoch 9/100\n",
            "2/2 [==============================] - 0s 39ms/step - loss: 0.2008 - mae: 0.3594 - val_loss: 0.1696 - val_mae: 0.3385\n",
            "Epoch 10/100\n",
            "2/2 [==============================] - 0s 36ms/step - loss: 0.1822 - mae: 0.3450 - val_loss: 0.1529 - val_mae: 0.3246\n",
            "Epoch 11/100\n",
            "2/2 [==============================] - 0s 35ms/step - loss: 0.1639 - mae: 0.3307 - val_loss: 0.1374 - val_mae: 0.3094\n",
            "Epoch 12/100\n",
            "2/2 [==============================] - 0s 37ms/step - loss: 0.1464 - mae: 0.3162 - val_loss: 0.1227 - val_mae: 0.2936\n",
            "Epoch 13/100\n",
            "2/2 [==============================] - 0s 36ms/step - loss: 0.1294 - mae: 0.3016 - val_loss: 0.1092 - val_mae: 0.2785\n",
            "Epoch 14/100\n",
            "2/2 [==============================] - 0s 37ms/step - loss: 0.1138 - mae: 0.2857 - val_loss: 0.0976 - val_mae: 0.2635\n",
            "Epoch 15/100\n",
            "2/2 [==============================] - 0s 36ms/step - loss: 0.1004 - mae: 0.2701 - val_loss: 0.0881 - val_mae: 0.2520\n",
            "Epoch 16/100\n",
            "2/2 [==============================] - 0s 36ms/step - loss: 0.0882 - mae: 0.2559 - val_loss: 0.0804 - val_mae: 0.2402\n",
            "Epoch 17/100\n",
            "2/2 [==============================] - 0s 37ms/step - loss: 0.0786 - mae: 0.2424 - val_loss: 0.0743 - val_mae: 0.2294\n",
            "Epoch 18/100\n",
            "2/2 [==============================] - 0s 36ms/step - loss: 0.0709 - mae: 0.2294 - val_loss: 0.0701 - val_mae: 0.2204\n",
            "Epoch 19/100\n",
            "2/2 [==============================] - 0s 36ms/step - loss: 0.0648 - mae: 0.2164 - val_loss: 0.0669 - val_mae: 0.2131\n",
            "Epoch 20/100\n",
            "2/2 [==============================] - 0s 36ms/step - loss: 0.0606 - mae: 0.2059 - val_loss: 0.0644 - val_mae: 0.2060\n",
            "Epoch 21/100\n",
            "2/2 [==============================] - 0s 37ms/step - loss: 0.0572 - mae: 0.1988 - val_loss: 0.0622 - val_mae: 0.2021\n",
            "Epoch 22/100\n",
            "2/2 [==============================] - 0s 36ms/step - loss: 0.0540 - mae: 0.1940 - val_loss: 0.0601 - val_mae: 0.1987\n",
            "Epoch 23/100\n",
            "2/2 [==============================] - 0s 36ms/step - loss: 0.0510 - mae: 0.1890 - val_loss: 0.0576 - val_mae: 0.1934\n",
            "Epoch 24/100\n",
            "2/2 [==============================] - 0s 37ms/step - loss: 0.0477 - mae: 0.1828 - val_loss: 0.0546 - val_mae: 0.1871\n",
            "Epoch 25/100\n",
            "2/2 [==============================] - 0s 37ms/step - loss: 0.0444 - mae: 0.1764 - val_loss: 0.0513 - val_mae: 0.1797\n",
            "Epoch 26/100\n",
            "2/2 [==============================] - 0s 38ms/step - loss: 0.0413 - mae: 0.1700 - val_loss: 0.0481 - val_mae: 0.1721\n",
            "Epoch 27/100\n",
            "2/2 [==============================] - 0s 37ms/step - loss: 0.0381 - mae: 0.1631 - val_loss: 0.0450 - val_mae: 0.1651\n",
            "Epoch 28/100\n",
            "2/2 [==============================] - 0s 38ms/step - loss: 0.0355 - mae: 0.1570 - val_loss: 0.0422 - val_mae: 0.1581\n",
            "Epoch 29/100\n",
            "2/2 [==============================] - 0s 37ms/step - loss: 0.0331 - mae: 0.1508 - val_loss: 0.0396 - val_mae: 0.1529\n",
            "Epoch 30/100\n",
            "2/2 [==============================] - 0s 37ms/step - loss: 0.0311 - mae: 0.1455 - val_loss: 0.0374 - val_mae: 0.1485\n",
            "Epoch 31/100\n",
            "2/2 [==============================] - 0s 38ms/step - loss: 0.0294 - mae: 0.1409 - val_loss: 0.0355 - val_mae: 0.1442\n",
            "Epoch 32/100\n",
            "2/2 [==============================] - 0s 37ms/step - loss: 0.0277 - mae: 0.1359 - val_loss: 0.0338 - val_mae: 0.1398\n",
            "Epoch 33/100\n",
            "2/2 [==============================] - 0s 38ms/step - loss: 0.0263 - mae: 0.1308 - val_loss: 0.0322 - val_mae: 0.1348\n",
            "Epoch 34/100\n",
            "2/2 [==============================] - 0s 39ms/step - loss: 0.0247 - mae: 0.1255 - val_loss: 0.0306 - val_mae: 0.1293\n",
            "Epoch 35/100\n",
            "2/2 [==============================] - 0s 38ms/step - loss: 0.0231 - mae: 0.1201 - val_loss: 0.0292 - val_mae: 0.1238\n",
            "Epoch 36/100\n",
            "2/2 [==============================] - 0s 37ms/step - loss: 0.0217 - mae: 0.1146 - val_loss: 0.0280 - val_mae: 0.1186\n",
            "Epoch 37/100\n",
            "2/2 [==============================] - 0s 37ms/step - loss: 0.0204 - mae: 0.1092 - val_loss: 0.0270 - val_mae: 0.1139\n",
            "Epoch 38/100\n",
            "2/2 [==============================] - 0s 37ms/step - loss: 0.0192 - mae: 0.1041 - val_loss: 0.0260 - val_mae: 0.1093\n",
            "Epoch 39/100\n",
            "2/2 [==============================] - 0s 38ms/step - loss: 0.0181 - mae: 0.0997 - val_loss: 0.0252 - val_mae: 0.1052\n",
            "Epoch 40/100\n",
            "2/2 [==============================] - 0s 37ms/step - loss: 0.0171 - mae: 0.0955 - val_loss: 0.0244 - val_mae: 0.1021\n",
            "Epoch 41/100\n",
            "2/2 [==============================] - 0s 37ms/step - loss: 0.0162 - mae: 0.0919 - val_loss: 0.0237 - val_mae: 0.1000\n",
            "Epoch 42/100\n",
            "2/2 [==============================] - 0s 37ms/step - loss: 0.0154 - mae: 0.0888 - val_loss: 0.0229 - val_mae: 0.0982\n",
            "Epoch 43/100\n",
            "2/2 [==============================] - 0s 37ms/step - loss: 0.0147 - mae: 0.0859 - val_loss: 0.0223 - val_mae: 0.0967\n",
            "Epoch 44/100\n",
            "2/2 [==============================] - 0s 35ms/step - loss: 0.0141 - mae: 0.0832 - val_loss: 0.0218 - val_mae: 0.0958\n",
            "Epoch 45/100\n",
            "2/2 [==============================] - 0s 36ms/step - loss: 0.0135 - mae: 0.0812 - val_loss: 0.0213 - val_mae: 0.0951\n",
            "Epoch 46/100\n",
            "2/2 [==============================] - 0s 38ms/step - loss: 0.0130 - mae: 0.0796 - val_loss: 0.0209 - val_mae: 0.0945\n",
            "Epoch 47/100\n",
            "2/2 [==============================] - 0s 38ms/step - loss: 0.0126 - mae: 0.0786 - val_loss: 0.0206 - val_mae: 0.0941\n",
            "Epoch 48/100\n",
            "2/2 [==============================] - 0s 38ms/step - loss: 0.0123 - mae: 0.0773 - val_loss: 0.0202 - val_mae: 0.0937\n",
            "Epoch 49/100\n",
            "2/2 [==============================] - 0s 39ms/step - loss: 0.0119 - mae: 0.0763 - val_loss: 0.0199 - val_mae: 0.0931\n",
            "Epoch 50/100\n",
            "2/2 [==============================] - 0s 37ms/step - loss: 0.0116 - mae: 0.0756 - val_loss: 0.0196 - val_mae: 0.0925\n",
            "Epoch 51/100\n",
            "2/2 [==============================] - 0s 38ms/step - loss: 0.0113 - mae: 0.0747 - val_loss: 0.0193 - val_mae: 0.0918\n",
            "Epoch 52/100\n",
            "2/2 [==============================] - 0s 38ms/step - loss: 0.0111 - mae: 0.0742 - val_loss: 0.0189 - val_mae: 0.0911\n",
            "Epoch 53/100\n",
            "2/2 [==============================] - 0s 37ms/step - loss: 0.0108 - mae: 0.0734 - val_loss: 0.0186 - val_mae: 0.0905\n",
            "Epoch 54/100\n",
            "2/2 [==============================] - 0s 38ms/step - loss: 0.0105 - mae: 0.0727 - val_loss: 0.0182 - val_mae: 0.0898\n",
            "Epoch 55/100\n",
            "2/2 [==============================] - 0s 39ms/step - loss: 0.0103 - mae: 0.0718 - val_loss: 0.0178 - val_mae: 0.0891\n",
            "Epoch 56/100\n",
            "2/2 [==============================] - 0s 38ms/step - loss: 0.0101 - mae: 0.0710 - val_loss: 0.0175 - val_mae: 0.0883\n",
            "Epoch 57/100\n",
            "2/2 [==============================] - 0s 36ms/step - loss: 0.0098 - mae: 0.0701 - val_loss: 0.0172 - val_mae: 0.0876\n",
            "Epoch 58/100\n",
            "2/2 [==============================] - 0s 38ms/step - loss: 0.0096 - mae: 0.0693 - val_loss: 0.0169 - val_mae: 0.0868\n",
            "Epoch 59/100\n",
            "2/2 [==============================] - 0s 38ms/step - loss: 0.0094 - mae: 0.0684 - val_loss: 0.0167 - val_mae: 0.0859\n",
            "Epoch 60/100\n",
            "2/2 [==============================] - 0s 38ms/step - loss: 0.0091 - mae: 0.0675 - val_loss: 0.0164 - val_mae: 0.0851\n",
            "Epoch 61/100\n",
            "2/2 [==============================] - 0s 39ms/step - loss: 0.0088 - mae: 0.0665 - val_loss: 0.0160 - val_mae: 0.0841\n",
            "Epoch 62/100\n",
            "2/2 [==============================] - 0s 38ms/step - loss: 0.0086 - mae: 0.0657 - val_loss: 0.0157 - val_mae: 0.0832\n",
            "Epoch 63/100\n",
            "2/2 [==============================] - 0s 37ms/step - loss: 0.0084 - mae: 0.0647 - val_loss: 0.0154 - val_mae: 0.0824\n",
            "Epoch 64/100\n",
            "2/2 [==============================] - 0s 38ms/step - loss: 0.0082 - mae: 0.0640 - val_loss: 0.0151 - val_mae: 0.0818\n",
            "Epoch 65/100\n",
            "2/2 [==============================] - 0s 38ms/step - loss: 0.0080 - mae: 0.0633 - val_loss: 0.0149 - val_mae: 0.0812\n",
            "Epoch 66/100\n",
            "2/2 [==============================] - 0s 38ms/step - loss: 0.0078 - mae: 0.0625 - val_loss: 0.0145 - val_mae: 0.0807\n",
            "Epoch 67/100\n",
            "2/2 [==============================] - 0s 37ms/step - loss: 0.0076 - mae: 0.0617 - val_loss: 0.0142 - val_mae: 0.0802\n",
            "Epoch 68/100\n",
            "2/2 [==============================] - 0s 36ms/step - loss: 0.0075 - mae: 0.0610 - val_loss: 0.0139 - val_mae: 0.0797\n",
            "Epoch 69/100\n",
            "2/2 [==============================] - 0s 38ms/step - loss: 0.0073 - mae: 0.0602 - val_loss: 0.0137 - val_mae: 0.0791\n",
            "Epoch 70/100\n",
            "2/2 [==============================] - 0s 36ms/step - loss: 0.0071 - mae: 0.0595 - val_loss: 0.0134 - val_mae: 0.0784\n",
            "Epoch 71/100\n",
            "2/2 [==============================] - 0s 37ms/step - loss: 0.0069 - mae: 0.0587 - val_loss: 0.0132 - val_mae: 0.0777\n",
            "Epoch 72/100\n",
            "2/2 [==============================] - 0s 37ms/step - loss: 0.0068 - mae: 0.0579 - val_loss: 0.0129 - val_mae: 0.0769\n",
            "Epoch 73/100\n",
            "2/2 [==============================] - 0s 36ms/step - loss: 0.0066 - mae: 0.0572 - val_loss: 0.0127 - val_mae: 0.0761\n",
            "Epoch 74/100\n",
            "2/2 [==============================] - 0s 38ms/step - loss: 0.0064 - mae: 0.0563 - val_loss: 0.0124 - val_mae: 0.0754\n",
            "Epoch 75/100\n",
            "2/2 [==============================] - 0s 39ms/step - loss: 0.0063 - mae: 0.0555 - val_loss: 0.0122 - val_mae: 0.0745\n",
            "Epoch 76/100\n",
            "2/2 [==============================] - 0s 36ms/step - loss: 0.0061 - mae: 0.0548 - val_loss: 0.0119 - val_mae: 0.0737\n",
            "Epoch 77/100\n",
            "2/2 [==============================] - 0s 37ms/step - loss: 0.0060 - mae: 0.0540 - val_loss: 0.0117 - val_mae: 0.0729\n",
            "Epoch 78/100\n",
            "2/2 [==============================] - 0s 37ms/step - loss: 0.0059 - mae: 0.0531 - val_loss: 0.0114 - val_mae: 0.0720\n",
            "Epoch 79/100\n",
            "2/2 [==============================] - 0s 38ms/step - loss: 0.0057 - mae: 0.0524 - val_loss: 0.0112 - val_mae: 0.0711\n",
            "Epoch 80/100\n",
            "2/2 [==============================] - 0s 38ms/step - loss: 0.0056 - mae: 0.0517 - val_loss: 0.0110 - val_mae: 0.0701\n",
            "Epoch 81/100\n",
            "2/2 [==============================] - 0s 38ms/step - loss: 0.0055 - mae: 0.0510 - val_loss: 0.0107 - val_mae: 0.0692\n",
            "Epoch 82/100\n",
            "2/2 [==============================] - 0s 38ms/step - loss: 0.0053 - mae: 0.0504 - val_loss: 0.0105 - val_mae: 0.0684\n",
            "Epoch 83/100\n",
            "2/2 [==============================] - 0s 37ms/step - loss: 0.0052 - mae: 0.0498 - val_loss: 0.0103 - val_mae: 0.0678\n",
            "Epoch 84/100\n",
            "2/2 [==============================] - 0s 37ms/step - loss: 0.0051 - mae: 0.0492 - val_loss: 0.0101 - val_mae: 0.0671\n",
            "Epoch 85/100\n",
            "2/2 [==============================] - 0s 37ms/step - loss: 0.0050 - mae: 0.0486 - val_loss: 0.0100 - val_mae: 0.0664\n",
            "Epoch 86/100\n",
            "2/2 [==============================] - 0s 37ms/step - loss: 0.0049 - mae: 0.0479 - val_loss: 0.0098 - val_mae: 0.0657\n",
            "Epoch 87/100\n",
            "2/2 [==============================] - 0s 37ms/step - loss: 0.0048 - mae: 0.0473 - val_loss: 0.0096 - val_mae: 0.0651\n",
            "Epoch 88/100\n",
            "2/2 [==============================] - 0s 37ms/step - loss: 0.0047 - mae: 0.0467 - val_loss: 0.0094 - val_mae: 0.0644\n",
            "Epoch 89/100\n",
            "2/2 [==============================] - 0s 39ms/step - loss: 0.0046 - mae: 0.0462 - val_loss: 0.0092 - val_mae: 0.0638\n",
            "Epoch 90/100\n",
            "2/2 [==============================] - 0s 39ms/step - loss: 0.0045 - mae: 0.0456 - val_loss: 0.0090 - val_mae: 0.0631\n",
            "Epoch 91/100\n",
            "2/2 [==============================] - 0s 39ms/step - loss: 0.0044 - mae: 0.0450 - val_loss: 0.0088 - val_mae: 0.0624\n",
            "Epoch 92/100\n",
            "2/2 [==============================] - 0s 37ms/step - loss: 0.0042 - mae: 0.0444 - val_loss: 0.0086 - val_mae: 0.0617\n",
            "Epoch 93/100\n",
            "2/2 [==============================] - 0s 38ms/step - loss: 0.0042 - mae: 0.0439 - val_loss: 0.0085 - val_mae: 0.0611\n",
            "Epoch 94/100\n",
            "2/2 [==============================] - 0s 37ms/step - loss: 0.0041 - mae: 0.0433 - val_loss: 0.0083 - val_mae: 0.0605\n",
            "Epoch 95/100\n",
            "2/2 [==============================] - 0s 37ms/step - loss: 0.0040 - mae: 0.0428 - val_loss: 0.0081 - val_mae: 0.0600\n",
            "Epoch 96/100\n",
            "2/2 [==============================] - 0s 38ms/step - loss: 0.0039 - mae: 0.0422 - val_loss: 0.0080 - val_mae: 0.0594\n",
            "Epoch 97/100\n",
            "2/2 [==============================] - 0s 37ms/step - loss: 0.0038 - mae: 0.0416 - val_loss: 0.0078 - val_mae: 0.0588\n",
            "Epoch 98/100\n",
            "2/2 [==============================] - 0s 37ms/step - loss: 0.0037 - mae: 0.0411 - val_loss: 0.0076 - val_mae: 0.0582\n",
            "Epoch 99/100\n",
            "2/2 [==============================] - 0s 36ms/step - loss: 0.0036 - mae: 0.0405 - val_loss: 0.0074 - val_mae: 0.0576\n",
            "Epoch 100/100\n",
            "2/2 [==============================] - 0s 35ms/step - loss: 0.0035 - mae: 0.0400 - val_loss: 0.0073 - val_mae: 0.0568\n"
          ]
        }
      ]
    },
    {
      "cell_type": "code",
      "source": [
        "# Evaluate model\n",
        "test_loss, test_mae = model.evaluate(X_test, y_test, verbose=1)\n",
        "print(f\"Test Loss: {test_loss}, Test MAE: {test_mae}\")\n"
      ],
      "metadata": {
        "colab": {
          "base_uri": "https://localhost:8080/"
        },
        "id": "ZhSowDmB7toS",
        "outputId": "c44f02ef-e5b2-49b4-85d2-80149f1ffe64"
      },
      "execution_count": null,
      "outputs": [
        {
          "output_type": "stream",
          "name": "stdout",
          "text": [
            "1/1 [==============================] - 0s 27ms/step - loss: 0.0065 - mae: 0.0551\n",
            "Test Loss: 0.0065301209688186646, Test MAE: 0.055097322911024094\n"
          ]
        }
      ]
    },
    {
      "cell_type": "code",
      "source": [
        "import matplotlib.pyplot as plt\n",
        "\n",
        "# Plot training and validation loss\n",
        "plt.plot(history.history['loss'], label='Training Loss')\n",
        "plt.plot(history.history['val_loss'], label='Validation Loss')\n",
        "plt.legend()\n",
        "plt.title('Training vs Validation Loss')\n",
        "plt.xlabel('Epochs')\n",
        "plt.ylabel('Loss')\n",
        "plt.show()\n"
      ],
      "metadata": {
        "colab": {
          "base_uri": "https://localhost:8080/",
          "height": 472
        },
        "id": "NPwBQwaW72ur",
        "outputId": "09d97db4-bf24-4705-abe4-19c90479ae6a"
      },
      "execution_count": null,
      "outputs": [
        {
          "output_type": "display_data",
          "data": {
            "text/plain": [
              "<Figure size 640x480 with 1 Axes>"
            ],
            "image/png": "[encoded data removed]"
          },
          "metadata": {}
        }
      ]
    },
    {
      "cell_type": "code",
      "source": [
        "# Predict on test data\n",
        "predictions = model.predict(X_test)\n",
        "\n",
        "# Inverse transform the predictions and actual values to their original scale\n",
        "y_pred_original = scaler_y.inverse_transform(predictions)\n",
        "y_test_original = scaler_y.inverse_transform(y_test)\n",
        "\n",
        "# Display predictions vs actuals\n",
        "import pandas as pd\n",
        "\n",
        "comparison = pd.DataFrame({\n",
        "    'Actual_Skill_Level': y_test_original[:, 0],\n",
        "    'Predicted_Skill_Level': y_pred_original[:, 0],\n",
        "    'Actual_Assistance': y_test_original[:, 1],\n",
        "    'Predicted_Assistance': y_pred_original[:, 1],\n",
        "    'Actual_Difficulty': y_test_original[:, 2],\n",
        "    'Predicted_Difficulty': y_pred_original[:, 2],\n",
        "})\n",
        "\n",
        "print(comparison.head())\n"
      ],
      "metadata": {
        "colab": {
          "base_uri": "https://localhost:8080/"
        },
        "id": "UZQ8vFKv75Ta",
        "outputId": "22e566ef-bea3-4cf2-c353-0b76369b6175"
      },
      "execution_count": null,
      "outputs": [
        {
          "output_type": "stream",
          "name": "stderr",
          "text": [
            "WARNING:tensorflow:6 out of the last 73 calls to <function Model.make_predict_function.<locals>.predict_function at 0x78d8e02fdab0> triggered tf.function retracing. Tracing is expensive and the excessive number of tracings could be due to (1) creating @tf.function repeatedly in a loop, (2) passing tensors with different shapes, (3) passing Python objects instead of tensors. For (1), please define your @tf.function outside of the loop. For (2), @tf.function has reduce_retracing=True option that can avoid unnecessary retracing. For (3), please refer to https://www.tensorflow.org/guide/function#controlling_retracing and https://www.tensorflow.org/api_docs/python/tf/function for  more details.\n"
          ]
        },
        {
          "output_type": "stream",
          "name": "stdout",
          "text": [
            "1/1 [==============================] - 0s 57ms/step\n",
            "   Actual_Skill_Level  Predicted_Skill_Level  Actual_Assistance  \\\n",
            "0            0.921437               0.793296                0.0   \n",
            "1            0.890095               0.806949                0.0   \n",
            "2            0.835303               0.841030                1.0   \n",
            "3            0.892804               0.898635                1.0   \n",
            "4            0.841989               0.878455                0.0   \n",
            "\n",
            "   Predicted_Assistance  Actual_Difficulty  Predicted_Difficulty  \n",
            "0              0.149781                1.0              1.403701  \n",
            "1              0.142425                1.0              1.422727  \n",
            "2              1.017237                2.0              1.659209  \n",
            "3              1.032653                1.0              1.195355  \n",
            "4             -0.055864                3.0              2.907329  \n"
          ]
        }
      ]
    },
    {
      "cell_type": "code",
      "source": [
        "from sklearn.metrics import mean_absolute_error, mean_squared_error\n",
        "\n",
        "mae = mean_absolute_error(y_test_original, y_pred_original)\n",
        "rmse = np.sqrt(mean_squared_error(y_test_original, y_pred_original))\n",
        "print(f\"Mean Absolute Error: {mae}\")\n",
        "print(f\"Root Mean Squared Error: {rmse}\")\n"
      ],
      "metadata": {
        "colab": {
          "base_uri": "https://localhost:8080/"
        },
        "id": "SgtNkrXe771y",
        "outputId": "366de04c-40e6-490c-c2d4-9b82b52b4d7c"
      },
      "execution_count": null,
      "outputs": [
        {
          "output_type": "stream",
          "name": "stdout",
          "text": [
            "Mean Absolute Error: 0.08501291001526735\n",
            "Root Mean Squared Error: 0.14012561784404395\n"
          ]
        }
      ]
    },
    {
      "cell_type": "code",
      "source": [
        "from sklearn.metrics import accuracy_score, f1_score\n",
        "\n",
        "# Binary outputs for assistance\n",
        "actual_binary = (y_test_original[:, 1] > 0.5).astype(int)\n",
        "predicted_binary = (y_pred_original[:, 1] > 0.5).astype(int)\n",
        "\n",
        "accuracy = accuracy_score(actual_binary, predicted_binary)\n",
        "f1 = f1_score(actual_binary, predicted_binary)\n",
        "print(f\"Accuracy: {accuracy}\")\n",
        "print(f\"F1 Score: {f1}\")\n"
      ],
      "metadata": {
        "colab": {
          "base_uri": "https://localhost:8080/"
        },
        "id": "s52nFmof8Aaz",
        "outputId": "8a9a34b8-0d4f-4fdf-e3a8-3c9ca5097df7"
      },
      "execution_count": null,
      "outputs": [
        {
          "output_type": "stream",
          "name": "stdout",
          "text": [
            "Accuracy: 1.0\n",
            "F1 Score: 1.0\n"
          ]
        }
      ]
    },
    {
      "cell_type": "code",
      "source": [
        "model.save('student_performance_model.h5')\n",
        "print(\"Model saved as 'student_performance_model.h5'\")\n"
      ],
      "metadata": {
        "colab": {
          "base_uri": "https://localhost:8080/"
        },
        "id": "vSE6HqOz8DL3",
        "outputId": "375892cc-af54-4899-b53f-88f6d70213f6"
      },
      "execution_count": null,
      "outputs": [
        {
          "output_type": "stream",
          "name": "stdout",
          "text": [
            "Model saved as 'student_performance_model.h5'\n"
          ]
        },
        {
          "output_type": "stream",
          "name": "stderr",
          "text": [
            "/usr/local/lib/python3.10/dist-packages/keras/src/engine/training.py:3103: UserWarning: You are saving your model as an HDF5 file via `model.save()`. This file format is considered legacy. We recommend using instead the native Keras format, e.g. `model.save('my_model.keras')`.\n",
            "  saving_api.save_model(\n"
          ]
        }
      ]
    },
    {
      "cell_type": "code",
      "source": [
        "from tensorflow.keras.models import load_model\n",
        "\n",
        "# Load the saved model\n",
        "loaded_model = load_model('student_performance_model.h5')\n"
      ],
      "metadata": {
        "id": "FRwMM-mi8Fra"
      },
      "execution_count": null,
      "outputs": []
    },
    {
      "cell_type": "code",
      "source": [
        "# Normalize new data using the same scaler\n",
        "new_data = np.array([[1, 10, 0, 0, 0]])  # Example new data\n",
        "new_data_scaled = scaler_X.transform(new_data)\n",
        "\n",
        "# Predict using the loaded model\n",
        "new_prediction = loaded_model.predict(new_data_scaled)\n",
        "new_prediction_original = scaler_y.inverse_transform(new_prediction)\n",
        "print(f\"Predicted Performance Analysis: {new_prediction_original}\")\n"
      ],
      "metadata": {
        "colab": {
          "base_uri": "https://localhost:8080/"
        },
        "id": "IOGazkBy8IOy",
        "outputId": "90acc6eb-cf14-45f3-e3fd-4a134f5124ad"
      },
      "execution_count": null,
      "outputs": [
        {
          "output_type": "stream",
          "name": "stdout",
          "text": [
            "1/1 [==============================] - 0s 24ms/step\n",
            "Predicted Performance Analysis: [[0.77044874 0.12479383 1.5080094 ]]\n"
          ]
        },
        {
          "output_type": "stream",
          "name": "stderr",
          "text": [
            "/usr/local/lib/python3.10/dist-packages/sklearn/base.py:493: UserWarning: X does not have valid feature names, but MinMaxScaler was fitted with feature names\n",
            "  warnings.warn(\n"
          ]
        }
      ]
    },
    {
      "cell_type": "code",
      "source": [
        "def map_predictions(predicted_output):\n",
        "    skill_level = 'Advanced' if predicted_output[0][0] > 0.7 else (\n",
        "                  'Intermediate' if predicted_output[0][0] > 0.5 else 'Beginner')\n",
        "    assistance_needed = 'Yes' if predicted_output[0][1] >= 1 else 'No'\n",
        "    recommended_difficulty = round(predicted_output[0][2])\n",
        "\n",
        "    return {\n",
        "        'Skill Level': skill_level,\n",
        "        'Assistance Needed': assistance_needed,\n",
        "        'Recommended Difficulty': recommended_difficulty\n",
        "    }\n",
        "\n",
        "mapped_output = map_predictions(new_prediction_original)\n",
        "print(mapped_output)\n"
      ],
      "metadata": {
        "colab": {
          "base_uri": "https://localhost:8080/"
        },
        "id": "3-rR_MdS-RRe",
        "outputId": "904c1576-17ae-4173-f3b0-8942768c21a2"
      },
      "execution_count": null,
      "outputs": [
        {
          "output_type": "stream",
          "name": "stdout",
          "text": [
            "{'Skill Level': 'Advanced', 'Assistance Needed': 'No', 'Recommended Difficulty': 2}\n"
          ]
        }
      ]
    },
    {
      "cell_type": "code",
      "source": [],
      "metadata": {
        "id": "0t9orzcCDyHZ"
      },
      "execution_count": null,
      "outputs": []
    }
  ]
}