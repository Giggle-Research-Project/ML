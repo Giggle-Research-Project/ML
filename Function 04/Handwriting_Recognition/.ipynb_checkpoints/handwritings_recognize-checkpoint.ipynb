{
 "cells": [
  {
   "cell_type": "code",
   "execution_count": 1,
   "id": "8b776570-c58e-4d73-8ede-4d12ca49a8df",
   "metadata": {},
   "outputs": [],
   "source": [
    "import tensorflow as tf\n",
    "from tensorflow.keras.models import load_model\n",
    "import numpy as np\n",
    "import matplotlib.pyplot as plt\n",
    "from PIL import Image\n",
    "\n",
    "# Load the pre-trained model\n",
    "MODEL_PATH = \"tf-cnn-model.h5\"\n",
    "model = load_model(MODEL_PATH)"
   ]
  },
  {
   "cell_type": "code",
   "execution_count": 3,
   "id": "e1e777ed-69d7-42f0-81ba-1080fa271c48",
   "metadata": {},
   "outputs": [
    {
     "data": {
      "image/png": "[encoded data removed]",
      "text/plain": [
       "<Figure size 640x480 with 1 Axes>"
      ]
     },
     "metadata": {},
     "output_type": "display_data"
    },
    {
     "name": "stdout",
     "output_type": "stream",
     "text": [
      "Prediction of model: 7\n"
     ]
    }
   ],
   "source": [
    "# Load and preprocess the image\n",
    "image_path = \"Numbers/7.png\"\n",
    "image = Image.open(image_path).convert('L')  # Convert to grayscale\n",
    "image = image.resize((28, 28))  # Resize to the same size as the training data\n",
    "image = np.array(image)  # Convert to NumPy array\n",
    "image = image.reshape(1, 28, 28, 1)  # Reshape for the model (batch_size, height, width, channels)\n",
    "image = image.astype('float32') / 255.0  # Normalize pixel values\n",
    "\n",
    "# Predict using the model\n",
    "model_pred = model.predict(image, verbose=0)\n",
    "predicted_class = np.argmax(model_pred, axis=1)  # Get the predicted class\n",
    "\n",
    "# Plot the image and print the prediction\n",
    "plt.imshow(image.reshape(28, 28), cmap='gray')\n",
    "plt.show()\n",
    "print('Prediction of model: {}'.format(predicted_class[0]))"
   ]
  },
  {
   "cell_type": "code",
   "execution_count": null,
   "id": "22a8387b-8674-4b1f-b4da-a8315bcc5835",
   "metadata": {},
   "outputs": [],
   "source": []
  }
 ],
 "metadata": {
  "kernelspec": {
   "display_name": "Python 3 (ipykernel)",
   "language": "python",
   "name": "python3"
  },
  "language_info": {
   "codemirror_mode": {
    "name": "ipython",
    "version": 3
   },
   "file_extension": ".py",
   "mimetype": "text/x-python",
   "name": "python",
   "nbconvert_exporter": "python",
   "pygments_lexer": "ipython3",
   "version": "3.10.14"
  }
 },
 "nbformat": 4,
 "nbformat_minor": 5
}
